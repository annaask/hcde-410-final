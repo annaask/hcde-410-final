{
 "cells": [
  {
   "cell_type": "markdown",
   "id": "3077f363-8faf-4660-b924-70f9886bbc06",
   "metadata": {},
   "source": [
    "# Final Project Preliminary Proposal"
   ]
  },
  {
   "cell_type": "markdown",
   "id": "f664c8d9-b480-43dd-9945-5e96216ad016",
   "metadata": {},
   "source": [
    "## Motivation and Problem Statement"
   ]
  },
  {
   "cell_type": "markdown",
   "id": "4e2776c1-4d01-42d1-8f90-cb90d28d2653",
   "metadata": {},
   "source": [
    "I am planning on analyzing the the patterns in the checkout history of items in the Seattle Public Library. I want to see which books are most popular, least popular, and the history/frequency of  item checkouts. I may also look into other aspects that affect library checkouts, or other traits of the books that are being checked out. From a practical perspective, knowing the distribution of books that are checked out could give the library system insights into what types of books to purchase in the future, or which locations to move different types of books to. From a human-centered perspective, this information can make library layouts more effective in their placement of books on the floor. From a scientific perspective, it may provide some insights into the different times of year types/subjects of items are likely to be checked out, if there are correlations between events and items checked out, or if checkout rates increase or decrease overall between month or year.\n"
   ]
  },
  {
   "cell_type": "markdown",
   "id": "f0e28a9e-811f-4d9f-8cb3-ffa70890363a",
   "metadata": {},
   "source": [
    "## Research Questions"
   ]
  },
  {
   "cell_type": "markdown",
   "id": "1f1822ff-64a0-42f7-94b1-6836886b1ff2",
   "metadata": {},
   "source": [
    "I will investigate the following research questions in this project:\n",
    "\n",
    "- How do item subject check-outs correlate with national holidays, heritage months, or historical events?\n",
    "- How have the popularity of different forms of media/items offered by the library changed over time?\n",
    "- How frequently do older items get checked out compared to newer ones?"
   ]
  },
  {
   "cell_type": "markdown",
   "id": "f5ae1d32-957f-4cc4-abd3-adcb2a6f7827",
   "metadata": {},
   "source": [
    "## Background and Related Work"
   ]
  },
  {
   "cell_type": "markdown",
   "id": "00f8c8d9-4f8f-4fcb-9b57-1dfab196bb65",
   "metadata": {},
   "source": [
    "Library data from across the country has been collected and analyzed in many ways. The Library Research Service (LRS) from the Colorado Department of Education conducts library research and has compiled resources for library systems across the United States. Included in these resources is national survey data and analysis from the Institute of Museum and Library Services (IMLS) (https://www.lrs.org/data-tools/public-libraries/national-statistics/) and individual state library agency data and analysis for all states except Arkansas (https://www.lrs.org/data-tools/public-libraries/other-states/). \n",
    "\n",
    "Washington State has Public Library Statistics that are accessible to the public in multiple formats, detailing various aspects of the library system like COVID-19 impact, revenue, expenditures, personel, holdings, computers, salaries, and circulation/collection use, to name a few (https://www.sos.wa.gov/library/libraries/libdev/publications.aspx#WAStats). Yearly reports are available, from 1999-2020. Additionally, the entire state, each congressional district, and each legislative district has a fact sheet with the community benefit of libraries in each region for 2018. The analysis most similar to the project I am proposing is their compilation of circulation/collection use and collection/holdings, which describe the circulation of library materials across the state of Washington and the extent of their collection. The posted data tables don't mention specific findings, but instead could serve as a data set for further analysis of each individual library's activity. \n",
    "\n",
    "Regarding Seattle Public Library data specifically, Yorgos Askalidis published two Medium articles analyzing this data, and explored check out trends over the year (https://towardsdatascience.com/how-and-when-people-use-the-public-library-1b102f58fd8a) and per item (https://medium.com/@yaskalidis/the-most-checked-out-books-from-the-public-library-63f147c04df3). When checking out yearly trends, Askalidis used a random sample of 10% of each year's checkout records, and found that book checkouts were consistently around 4 million per year, and that audio/visual checkouts have been declining since 2009. He also found that 4 pm was the most popular hour for checking out books and discs. Saturdays were the most popular day for check outs every year, and summers and january were popular for checkouts. When examining item trends, Askalidis determined the top 10 most checked out books and discs for 2018 and the top book and movie for 2006-2017.  Noting this previous work, I decided to investigate how traits of items, like topic and release date, affect their checkout rate over time. I will also be investigating digital media as a seperate item, unlike Askalidis.\n",
    "\n",
    "Melanie Walsh, of \"Tweets of a Native Son\", analyzed the SPL data set to explore the history of books checked out pertaining to or writen by James Baldwin (https://tweetsofanativeson.com/Seattle-Public-Library/). She found that there was a sharp increase in items borrowed at the end of 2016, especially for the documentary titled \"I am not your Negro\", published in 2017. With this documentary removed, she highlights the history of other items regarding James Baldwin and the correlation to the Ferguson Protests and #BlackLivesMatter. This exploration furthered my interest in comparing library data to holidays, and broadened my first research question to include historical events. "
   ]
  },
  {
   "cell_type": "markdown",
   "id": "5000ed15-cfac-4087-9dc6-d7a76323128d",
   "metadata": {},
   "source": [
    "## Data Selected for Analysis"
   ]
  },
  {
   "cell_type": "markdown",
   "id": "6f58bd7d-3dd3-41e0-8369-cbfe47d8a0fc",
   "metadata": {},
   "source": [
    "I will be using four datasets from the Seattle Public Library System. They are the: \n",
    "\n",
    "Library Collection Inventory (https://data.seattle.gov/Community/Library-Collection-Inventory/6vkj-f5xf), \n",
    "\n",
    "Checkouts by Title (https://data.seattle.gov/Community/Checkouts-by-Title/tmmm-ytt6), \n",
    "\n",
    "Checkouts by Title (Physical Items) (https://data.seattle.gov/Community/Checkouts-By-Title-Physical-Items-/5src-czff), \n",
    "\n",
    "and the Integrated Library System (ILS) Data Dictionary (https://data.seattle.gov/Community/Integrated-Library-System-ILS-Data-Dictionary/pbt3-ytbc). \n",
    "\n",
    "The Library Collection Inventory dataset contains a list of books in the library system and various traits, such as title, author, ISBN, publication year, publisher, subjects, item type, item collection, item location, and item count. There are also a few fields for tracking purposes. \n",
    "\n",
    "The Checkouts by Title and Checkouts by Title (Physical Items) datasets include a list of checkout dates and times and traits about that checkout, such as item title, subject, call number, collection, item type, barcode, checkout year, and checkout ID. \n",
    "\n",
    "The Integrated Library System (ILS) data dictionary contains a list of codes that may appear in the above three datasets, and explains them. There is a field for code, description, code type, format, category, and age. \n",
    "\n",
    "These datasets are suitable for my analysis because they have detailed information about all of the items that are available through the library, and all of the items that have been checked out since 2005. The checkout times will allow me to find information on frequency of item checkout, and popularity of each item. Other information that is provided in the dataset will allow me to get insights into where popular items are located. \n",
    "\n",
    "These datasets are on the Seattle Open Data Database. They are all under public domain. \n",
    "\n",
    "\n",
    "There are few ethical issues that I see from this dataset, as it does not contain user personal data. Exact checkout times and checkout IDs could possibly be linked to a library card number, but it is not clear how it is involved, if it even is. \n"
   ]
  },
  {
   "cell_type": "markdown",
   "id": "5bd25d7f-91c5-455c-9387-13f953536e6b",
   "metadata": {},
   "source": [
    "## Methods"
   ]
  },
  {
   "cell_type": "markdown",
   "id": "4ae5de1e-e0a1-4015-b991-954190221b96",
   "metadata": {},
   "source": [
    "For all of my research questions I will investigate the relationship between checkouts and time. so I will be performing a time series analysis to explore that data. I will sort the data into item traits and years/months/weeks checked out in order to see the number of items checked out at each point in time. For the first question, I will then compare these numbers to holidays and historical events to see if an increase or decrease in checkouts allign with the event. I will represent this through various historgrams with a timeline of relevant historical events overlayed. For the second question, I will create a histogram data visualization that overlays the number of checkouts for each type of item. My third research question will also be represented with a histogram, showing a few key years for book publishing (possibly one every 10 years), and juxtapose those histograms together. Depending on what I find, I think I may also include historgrams that leave out outliers, like books that are often read for school or that are true classics, to highlight how that changes the findings."
   ]
  },
  {
   "cell_type": "markdown",
   "id": "f9a62f62-efb6-4837-aed8-f9ba7031142d",
   "metadata": {},
   "source": [
    "## Unknowns and Dependencies"
   ]
  },
  {
   "cell_type": "markdown",
   "id": "3221f1fd-a6d6-42c8-b23e-91c8a0e6f077",
   "metadata": {},
   "source": [
    "There is a LOT of data in these sets, at magnitudes of 100,000,000 rows of data. This may make processing time pretty lengthy and overwhelming. \n",
    "\n",
    "Also, as I haven't started deeply analyzing the data, I'm unsure if the formatting of the book features are the same. If the formatting is different between the three datasets I'm using, this data will be much harder to analyze data and I may be limited in what I can analyze by."
   ]
  },
  {
   "cell_type": "markdown",
   "id": "5107e380-58d3-4100-bcf6-90168bdc9241",
   "metadata": {},
   "source": [
    "## Feedback From Peers"
   ]
  },
  {
   "cell_type": "markdown",
   "id": "e100e0a4-cd8c-422b-bc55-c3720da181a1",
   "metadata": {},
   "source": [
    "When reviewing my proposal, peers had concerns about the ammount of data I would have to analyze, and the many paths of investigation that I address looking into. I will be mindful of the data size when analyzing, and will scope early if I feel overwhelmed (possibly to only do most popular 1000 and least popular 1000?). I will also refine my investigation points and connect them to make it fit into more of a story. "
   ]
  },
  {
   "cell_type": "code",
   "execution_count": null,
   "id": "e293a207-4887-4576-b27a-ce62119a4c7d",
   "metadata": {},
   "outputs": [],
   "source": []
  }
 ],
 "metadata": {
  "kernelspec": {
   "display_name": "Python 3 (ipykernel)",
   "language": "python",
   "name": "python3"
  },
  "language_info": {
   "codemirror_mode": {
    "name": "ipython",
    "version": 3
   },
   "file_extension": ".py",
   "mimetype": "text/x-python",
   "name": "python",
   "nbconvert_exporter": "python",
   "pygments_lexer": "ipython3",
   "version": "3.9.7"
  }
 },
 "nbformat": 4,
 "nbformat_minor": 5
}
